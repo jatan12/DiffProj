{
 "cells": [
  {
   "attachments": {},
   "cell_type": "markdown",
   "id": "0a8c6944",
   "metadata": {},
   "source": [
    "### Expert"
   ]
  },
  {
   "cell_type": "code",
   "execution_count": 1,
   "id": "7beaaad1",
   "metadata": {},
   "outputs": [
    {
     "name": "stdout",
     "output_type": "stream",
     "text": [
      "Time taken: 2.7363829612731934\n",
      "Time taken: 2.0794742107391357\n",
      "Time taken: 0.03254437446594238\n",
      "Time taken: 0.03013014793395996\n",
      "Time taken: 0.030131101608276367\n",
      "Time taken: 0.02972102165222168\n",
      "Time taken: 0.029105186462402344\n",
      "Time taken: 0.028574228286743164\n",
      "Time taken: 0.028189659118652344\n",
      "Time taken: 0.02843952178955078\n",
      "Time taken: 0.02869725227355957\n",
      "Time taken: 0.028742313385009766\n",
      "Time taken: 0.02840280532836914\n",
      "Time taken: 0.02844524383544922\n",
      "Time taken: 0.0292966365814209\n",
      "Time taken: 0.028513669967651367\n",
      "Time taken: 0.028636693954467773\n",
      "Time taken: 0.028553485870361328\n",
      "^C\n",
      "Traceback (most recent call last):\n",
      "  File \"/home/imsrobotics/Documents/IROS 2023/MPC-Bi-Level/main_bilevel.py\", line 80, in <module>\n",
      "    action = expert.predict(obs, ax, ay, v_des)\n",
      "  File \"/home/imsrobotics/Documents/IROS 2023/MPC-Bi-Level/expert_mpc/policy_bilevel.py\", line 52, in predict\n",
      "    initial_state = jnp.hstack((x, y, vx, vy, ax, ay))\n",
      "  File \"/home/imsrobotics/anaconda3/lib/python3.9/site-packages/jax/_src/numpy/lax_numpy.py\", line 1671, in hstack\n",
      "    return concatenate(arrs, axis=0 if arr0_ndim == 1 else 1)\n",
      "  File \"/home/imsrobotics/anaconda3/lib/python3.9/site-packages/jax/_src/numpy/lax_numpy.py\", line 1648, in concatenate\n",
      "    arrays = [lax.concatenate(arrays[i:i+k], axis)\n",
      "  File \"/home/imsrobotics/anaconda3/lib/python3.9/site-packages/jax/_src/numpy/lax_numpy.py\", line 1648, in <listcomp>\n",
      "    arrays = [lax.concatenate(arrays[i:i+k], axis)\n",
      "  File \"/home/imsrobotics/anaconda3/lib/python3.9/site-packages/jax/_src/lax/lax.py\", line 571, in concatenate\n",
      "    return concatenate_p.bind(*operands, dimension=dimension)\n",
      "  File \"/home/imsrobotics/anaconda3/lib/python3.9/site-packages/jax/core.py\", line 323, in bind\n",
      "    return self.bind_with_trace(find_top_trace(args), args, params)\n",
      "  File \"/home/imsrobotics/anaconda3/lib/python3.9/site-packages/jax/core.py\", line 326, in bind_with_trace\n",
      "    out = trace.process_primitive(self, map(trace.full_raise, args), params)\n",
      "  File \"/home/imsrobotics/anaconda3/lib/python3.9/site-packages/jax/core.py\", line 657, in process_primitive\n",
      "    return primitive.impl(*tracers, **params)\n",
      "  File \"/home/imsrobotics/anaconda3/lib/python3.9/site-packages/jax/_src/dispatch.py\", line 98, in apply_primitive\n",
      "    return compiled_fun(*args)\n",
      "  File \"/home/imsrobotics/anaconda3/lib/python3.9/site-packages/jax/_src/dispatch.py\", line 118, in <lambda>\n",
      "    return lambda *args, **kw: compiled(*args, **kw)[0]\n",
      "  File \"/home/imsrobotics/anaconda3/lib/python3.9/site-packages/jax/_src/dispatch.py\", line 556, in _execute_compiled\n",
      "    input_bufs_flat = flatten(device_put(x, device) for i, x in enumerate(args)\n",
      "  File \"/home/imsrobotics/anaconda3/lib/python3.9/site-packages/jax/_src/util.py\", line 111, in concatenate\n",
      "    return list(it.chain.from_iterable(xs))\n",
      "  File \"/home/imsrobotics/anaconda3/lib/python3.9/site-packages/jax/_src/dispatch.py\", line 556, in <genexpr>\n",
      "    input_bufs_flat = flatten(device_put(x, device) for i, x in enumerate(args)\n",
      "  File \"/home/imsrobotics/anaconda3/lib/python3.9/site-packages/jax/_src/dispatch.py\", line 786, in device_put\n",
      "    return device_put_handlers[type(x)](x, device)\n",
      "  File \"/home/imsrobotics/anaconda3/lib/python3.9/site-packages/jax/_src/dispatch.py\", line 822, in _device_put_device_array\n",
      "    x = _copy_device_array_to_device(x, device)\n",
      "  File \"/home/imsrobotics/anaconda3/lib/python3.9/site-packages/jax/_src/dispatch.py\", line 846, in _copy_device_array_to_device\n",
      "    return device_array.make_device_array(x.aval, device, moved_buf)\n",
      "  File \"/home/imsrobotics/anaconda3/lib/python3.9/site-packages/jax/_src/device_array.py\", line 64, in make_device_array\n",
      "    device_buffer = device_buffer.clone()\n",
      "KeyboardInterrupt\n"
     ]
    }
   ],
   "source": [
    "!python main_bilevel.py --density 3.0 --seed 42 --maxiter 75 --episodes 5 # --record True"
   ]
  },
  {
   "cell_type": "code",
   "execution_count": 2,
   "id": "7d830f8e",
   "metadata": {},
   "outputs": [
    {
     "name": "stdout",
     "output_type": "stream",
     "text": [
      "/home/imsrobotics/anaconda3/lib/python3.9/site-packages/gym/wrappers/record_video.py:41: UserWarning: \u001b[33mWARN: Overwriting existing videos at /home/imsrobotics/Documents/IROS 2023/MPC-Bi-Level/videos/expert_density_3.0 folder (try specifying a different `video_folder` for the `RecordVideo` wrapper if this is not desired)\u001b[0m\n",
      "  logger.warn(\n",
      "----------------------------------------------------------------------------------------------------\n",
      "Episode: 1\n",
      "Collisions: 0\n",
      "Speed: 10.523382075589529\n",
      "----------------------------------------------------------------------------------------------------\n",
      "----------------------------------------------------------------------------------------------------\n",
      "Episode: 2\n",
      "Collisions: 0\n",
      "Speed: 10.49631076388889\n",
      "----------------------------------------------------------------------------------------------------\n",
      "----------------------------------------------------------------------------------------------------\n",
      "Episode: 3\n",
      "Collisions: 0\n",
      "Speed: 10.449547393335331\n",
      "----------------------------------------------------------------------------------------------------\n",
      "----------------------------------------------------------------------------------------------------\n",
      "Episode: 4\n",
      "Collisions: 0\n",
      "Speed: 10.451810426658673\n",
      "----------------------------------------------------------------------------------------------------\n",
      "----------------------------------------------------------------------------------------------------\n",
      "Episode: 5\n",
      "Collisions: 0\n",
      "Speed: 9.568571705135891\n",
      "----------------------------------------------------------------------------------------------------\n",
      "----------------------------------------------------------------------------------------------------\n",
      "Episode: 6\n",
      "Collisions: 0\n",
      "Speed: 10.263561806804557\n",
      "----------------------------------------------------------------------------------------------------\n",
      "----------------------------------------------------------------------------------------------------\n",
      "Episode: 7\n",
      "Collisions: 0\n",
      "Speed: 10.79742377972622\n",
      "----------------------------------------------------------------------------------------------------\n",
      "----------------------------------------------------------------------------------------------------\n",
      "Episode: 8\n",
      "Collisions: 0\n",
      "Speed: 10.729716227018386\n",
      "----------------------------------------------------------------------------------------------------\n",
      "----------------------------------------------------------------------------------------------------\n",
      "Episode: 9\n",
      "Collisions: 0\n",
      "Speed: 10.457726006694644\n",
      "----------------------------------------------------------------------------------------------------\n",
      "----------------------------------------------------------------------------------------------------\n",
      "Episode: 10\n",
      "Collisions: 0\n",
      "Speed: 10.92624806404876\n",
      "----------------------------------------------------------------------------------------------------\n",
      "Average Collision Rate: 0.0\n",
      "Average Speed: 10.466429824890088\n",
      "Elapsed: 2289.042195081711\n"
     ]
    }
   ],
   "source": [
    "!python main_bilevel.py --density 3.0 --seed 42 --maxiter 75 --episodes 10 --record True"
   ]
  },
  {
   "cell_type": "code",
   "execution_count": 4,
   "id": "36867586",
   "metadata": {},
   "outputs": [
    {
     "name": "stdout",
     "output_type": "stream",
     "text": [
      "Time taken: 86.63233947753906\n",
      "Time taken: 0.057213544845581055\n",
      "Time taken: 0.02677750587463379\n",
      "Time taken: 0.027389049530029297\n",
      "Time taken: 0.02509903907775879\n",
      "Time taken: 0.025384902954101562\n",
      "Time taken: 0.024708032608032227\n",
      "Time taken: 0.024735450744628906\n",
      "Time taken: 0.023952722549438477\n",
      "Time taken: 0.024060964584350586\n",
      "Time taken: 0.024300575256347656\n",
      "Time taken: 0.02382183074951172\n",
      "Time taken: 0.024254798889160156\n",
      "Time taken: 0.024230003356933594\n",
      "Time taken: 0.02389073371887207\n",
      "Time taken: 0.024258852005004883\n",
      "Time taken: 0.02312445640563965\n",
      "Time taken: 0.024105548858642578\n",
      "Time taken: 0.024021625518798828\n",
      "Time taken: 0.02393817901611328\n",
      "Time taken: 0.02400040626525879\n",
      "Time taken: 0.0239865779876709\n",
      "Time taken: 0.023647785186767578\n",
      "Time taken: 0.023908138275146484\n",
      "Time taken: 0.024224042892456055\n",
      "Time taken: 0.02425098419189453\n",
      "Time taken: 0.02433037757873535\n",
      "Time taken: 0.024070262908935547\n",
      "Time taken: 0.023829936981201172\n",
      "Time taken: 0.02503681182861328\n",
      "Time taken: 0.02409839630126953\n",
      "Time taken: 0.027646303176879883\n",
      "Time taken: 0.025349855422973633\n",
      "Time taken: 0.02430891990661621\n",
      "Time taken: 0.024439573287963867\n",
      "Time taken: 0.024539947509765625\n",
      "Time taken: 0.023869991302490234\n",
      "Time taken: 0.023881196975708008\n",
      "Time taken: 0.02441120147705078\n",
      "Time taken: 0.02400803565979004\n",
      "Time taken: 0.024094581604003906\n",
      "Time taken: 0.024089574813842773\n",
      "Time taken: 0.02381157875061035\n",
      "Time taken: 0.02505207061767578\n",
      "Time taken: 0.024896860122680664\n",
      "Time taken: 0.024646997451782227\n",
      "Time taken: 0.024298429489135742\n",
      "Time taken: 0.029340267181396484\n",
      "Time taken: 0.024948596954345703\n",
      "Time taken: 0.0230562686920166\n",
      "Time taken: 0.023781538009643555\n",
      "Time taken: 0.023895740509033203\n",
      "Time taken: 0.023948192596435547\n",
      "Time taken: 0.024100065231323242\n",
      "Time taken: 0.024120569229125977\n",
      "Time taken: 0.023740768432617188\n",
      "Time taken: 0.024277448654174805\n",
      "Time taken: 0.024341106414794922\n",
      "Time taken: 0.024150371551513672\n",
      "Time taken: 0.02382493019104004\n",
      "Time taken: 0.02520275115966797\n",
      "Time taken: 0.025588512420654297\n",
      "Time taken: 0.053929805755615234\n",
      "Time taken: 0.024239301681518555\n",
      "Time taken: 0.023143529891967773\n",
      "Time taken: 0.024115324020385742\n",
      "Time taken: 0.023322343826293945\n",
      "Time taken: 0.023834943771362305\n",
      "Time taken: 0.024944782257080078\n",
      "Time taken: 0.0245208740234375\n",
      "Time taken: 0.024590253829956055\n",
      "Time taken: 0.023998498916625977\n",
      "Time taken: 0.02420330047607422\n",
      "Time taken: 0.024166107177734375\n",
      "Time taken: 0.02409958839416504\n",
      "Time taken: 0.023627758026123047\n",
      "Time taken: 0.024751901626586914\n",
      "Time taken: 0.02340865135192871\n",
      "Time taken: 0.023676633834838867\n",
      "Time taken: 0.024317026138305664\n",
      "Time taken: 0.024226903915405273\n",
      "Time taken: 0.02397441864013672\n",
      "Time taken: 0.024292945861816406\n",
      "Time taken: 0.024350643157958984\n",
      "Time taken: 0.023908615112304688\n",
      "Time taken: 0.024093151092529297\n",
      "^C\n",
      "Traceback (most recent call last):\n",
      "  File \"/home/imsrobotics/Documents/IROS 2023/MPC-Bi-Level/main_baseline.py\", line 88, in <module>\n",
      "    obs, rew, done, info = env.step(action)\n",
      "  File \"/home/imsrobotics/anaconda3/lib/python3.9/site-packages/gym/wrappers/order_enforcing.py\", line 11, in step\n",
      "    observation, reward, done, info = self.env.step(action)\n",
      "  File \"/home/imsrobotics/Documents/IROS 2023/MPC-Bi-Level/highway_env/envs/common/abstract.py\", line 219, in step\n",
      "    self._simulate(action)\n",
      "  File \"/home/imsrobotics/Documents/IROS 2023/MPC-Bi-Level/highway_env/envs/common/abstract.py\", line 258, in _simulate\n",
      "    self.road.act()\n",
      "  File \"/home/imsrobotics/Documents/IROS 2023/MPC-Bi-Level/highway_env/road/road.py\", line 324, in act\n",
      "    vehicle.act()\n",
      "  File \"/home/imsrobotics/Documents/IROS 2023/MPC-Bi-Level/highway_env/vehicle/behavior.py\", line 101, in act\n",
      "    action['acceleration'] = self.acceleration(ego_vehicle=self,\n",
      "  File \"/home/imsrobotics/Documents/IROS 2023/MPC-Bi-Level/highway_env/vehicle/behavior.py\", line 153, in acceleration\n",
      "    np.power(self.desired_gap(ego_vehicle, front_vehicle) / utils.not_zero(d), 2)\n",
      "  File \"/home/imsrobotics/Documents/IROS 2023/MPC-Bi-Level/highway_env/vehicle/behavior.py\", line 168, in desired_gap\n",
      "    dv = np.dot(ego_vehicle.velocity - front_vehicle.velocity, ego_vehicle.direction) if projected \\\n",
      "  File \"/home/imsrobotics/Documents/IROS 2023/MPC-Bi-Level/highway_env/vehicle/kinematics.py\", line 184, in velocity\n",
      "    return self.speed * self.direction  # TODO: slip angle beta should be used here\n",
      "  File \"/home/imsrobotics/Documents/IROS 2023/MPC-Bi-Level/highway_env/vehicle/objects.py\", line 131, in direction\n",
      "    return np.array([np.cos(self.heading), np.sin(self.heading)])\n",
      "KeyboardInterrupt\n"
     ]
    }
   ],
   "source": [
    "!python main_baseline.py --baseline grid --density 3.0 --seed 42 --episodes 5 # --record True"
   ]
  },
  {
   "cell_type": "code",
   "execution_count": 4,
   "id": "c5462154",
   "metadata": {},
   "outputs": [
    {
     "name": "stdout",
     "output_type": "stream",
     "text": [
      "/home/imsrobotics/anaconda3/lib/python3.9/site-packages/gym/wrappers/record_video.py:41: UserWarning: \u001b[33mWARN: Overwriting existing videos at /home/imsrobotics/Documents/IROS 2023/MPC-Bi-Level/videos/batch_density_3.0 folder (try specifying a different `video_folder` for the `RecordVideo` wrapper if this is not desired)\u001b[0m\n",
      "  logger.warn(\n",
      "----------------------------------------------------------------------------------------------------\n",
      "Episode: 1\n",
      "Collisions: 0\n",
      "Speed: 12.086725931754597\n",
      "----------------------------------------------------------------------------------------------------\n",
      "----------------------------------------------------------------------------------------------------\n",
      "Episode: 2\n",
      "Collisions: 1\n",
      "Speed: 0.0\n",
      "----------------------------------------------------------------------------------------------------\n",
      "----------------------------------------------------------------------------------------------------\n",
      "Episode: 3\n",
      "Collisions: 1\n",
      "Speed: 11.267954386490807\n",
      "----------------------------------------------------------------------------------------------------\n",
      "----------------------------------------------------------------------------------------------------\n",
      "Episode: 4\n",
      "Collisions: 2\n",
      "Speed: 0.0\n",
      "----------------------------------------------------------------------------------------------------\n",
      "----------------------------------------------------------------------------------------------------\n",
      "Episode: 5\n",
      "Collisions: 3\n",
      "Speed: 0.0\n",
      "----------------------------------------------------------------------------------------------------\n",
      "----------------------------------------------------------------------------------------------------\n",
      "Episode: 6\n",
      "Collisions: 4\n",
      "Speed: 0.0\n",
      "----------------------------------------------------------------------------------------------------\n",
      "----------------------------------------------------------------------------------------------------\n",
      "Episode: 7\n",
      "Collisions: 4\n",
      "Speed: 12.925437774780177\n",
      "----------------------------------------------------------------------------------------------------\n",
      "----------------------------------------------------------------------------------------------------\n",
      "Episode: 8\n",
      "Collisions: 5\n",
      "Speed: 0.0\n",
      "----------------------------------------------------------------------------------------------------\n",
      "----------------------------------------------------------------------------------------------------\n",
      "Episode: 9\n",
      "Collisions: 5\n",
      "Speed: 14.271312637390087\n",
      "----------------------------------------------------------------------------------------------------\n",
      "----------------------------------------------------------------------------------------------------\n",
      "Episode: 10\n",
      "Collisions: 6\n",
      "Speed: 0.0\n",
      "----------------------------------------------------------------------------------------------------\n",
      "Average Collision Rate: 0.6\n",
      "Average Speed: 5.055143073041567\n",
      "Elapsed1107.151014328003\n"
     ]
    }
   ],
   "source": [
    "!python main_baseline.py --baseline batch --density 3.0 --seed 42 --episodes 10 --record True"
   ]
  },
  {
   "cell_type": "code",
   "execution_count": 5,
   "id": "4f9d3fbc",
   "metadata": {},
   "outputs": [
    {
     "name": "stdout",
     "output_type": "stream",
     "text": [
      "/home/imsrobotics/anaconda3/lib/python3.9/site-packages/gym/wrappers/record_video.py:41: UserWarning: \u001b[33mWARN: Overwriting existing videos at /home/imsrobotics/Documents/IROS 2023/MPC-Bi-Level/videos/cem_density_1.5 folder (try specifying a different `video_folder` for the `RecordVideo` wrapper if this is not desired)\u001b[0m\n",
      "  logger.warn(\n",
      "----------------------------------------------------------------------------------------------------\n",
      "Episode: 1\n",
      "Collisions: 0\n",
      "Speed: 10.629423024080735\n",
      "----------------------------------------------------------------------------------------------------\n",
      "----------------------------------------------------------------------------------------------------\n",
      "Episode: 2\n",
      "Collisions: 0\n",
      "Speed: 11.294028839428456\n",
      "----------------------------------------------------------------------------------------------------\n",
      "----------------------------------------------------------------------------------------------------\n",
      "Episode: 3\n",
      "Collisions: 0\n",
      "Speed: 10.843234006544764\n",
      "----------------------------------------------------------------------------------------------------\n",
      "----------------------------------------------------------------------------------------------------\n",
      "Episode: 4\n",
      "Collisions: 0\n",
      "Speed: 11.378751686151078\n",
      "----------------------------------------------------------------------------------------------------\n",
      "----------------------------------------------------------------------------------------------------\n",
      "Episode: 5\n",
      "Collisions: 0\n",
      "Speed: 10.826012627398082\n",
      "----------------------------------------------------------------------------------------------------\n",
      "Average Collision Rate: 0.0\n",
      "Average Speed: 10.994290036720622\n",
      "Elapsed1154.2545902729034\n"
     ]
    }
   ],
   "source": [
    "!python main_baseline.py --baseline cem --density 1.5 --seed 42 --episodes 5 --record True"
   ]
  },
  {
   "cell_type": "code",
   "execution_count": 6,
   "id": "3b9ae35f",
   "metadata": {},
   "outputs": [
    {
     "name": "stdout",
     "output_type": "stream",
     "text": [
      "/home/imsrobotics/anaconda3/lib/python3.9/site-packages/gym/wrappers/record_video.py:41: UserWarning: \u001b[33mWARN: Overwriting existing videos at /home/imsrobotics/Documents/IROS 2023/MPC-Bi-Level/videos/cem_density_3.0 folder (try specifying a different `video_folder` for the `RecordVideo` wrapper if this is not desired)\u001b[0m\n",
      "  logger.warn(\n",
      "----------------------------------------------------------------------------------------------------\n",
      "Episode: 1\n",
      "Collisions: 1\n",
      "Speed: 0.0\n",
      "----------------------------------------------------------------------------------------------------\n",
      "----------------------------------------------------------------------------------------------------\n",
      "Episode: 2\n",
      "Collisions: 1\n",
      "Speed: 11.89203012589928\n",
      "----------------------------------------------------------------------------------------------------\n",
      "----------------------------------------------------------------------------------------------------\n",
      "Episode: 3\n",
      "Collisions: 1\n",
      "Speed: 11.24736304706235\n",
      "----------------------------------------------------------------------------------------------------\n",
      "----------------------------------------------------------------------------------------------------\n",
      "Episode: 4\n",
      "Collisions: 2\n",
      "Speed: 0.0\n",
      "----------------------------------------------------------------------------------------------------\n",
      "----------------------------------------------------------------------------------------------------\n",
      "Episode: 5\n",
      "Collisions: 3\n",
      "Speed: 0.0\n",
      "----------------------------------------------------------------------------------------------------\n",
      "----------------------------------------------------------------------------------------------------\n",
      "Episode: 6\n",
      "Collisions: 4\n",
      "Speed: 0.0\n",
      "----------------------------------------------------------------------------------------------------\n",
      "----------------------------------------------------------------------------------------------------\n",
      "Episode: 7\n",
      "Collisions: 4\n",
      "Speed: 12.961961680655476\n",
      "----------------------------------------------------------------------------------------------------\n",
      "----------------------------------------------------------------------------------------------------\n",
      "Episode: 8\n",
      "Collisions: 4\n",
      "Speed: 15.659182029376499\n",
      "----------------------------------------------------------------------------------------------------\n",
      "----------------------------------------------------------------------------------------------------\n",
      "Episode: 9\n",
      "Collisions: 4\n",
      "Speed: 13.208876648681056\n",
      "----------------------------------------------------------------------------------------------------\n",
      "----------------------------------------------------------------------------------------------------\n",
      "Episode: 10\n",
      "Collisions: 5\n",
      "Speed: 0.0\n",
      "----------------------------------------------------------------------------------------------------\n",
      "Average Collision Rate: 0.5\n",
      "Average Speed: 6.4969413531674665\n",
      "Elapsed1283.2710485458374\n"
     ]
    }
   ],
   "source": [
    "!python main_baseline.py --baseline cem --density 3.0 --seed 42 --episodes 10 --record True"
   ]
  },
  {
   "cell_type": "code",
   "execution_count": 7,
   "id": "14f15067",
   "metadata": {},
   "outputs": [
    {
     "name": "stdout",
     "output_type": "stream",
     "text": [
      "/home/imsrobotics/anaconda3/lib/python3.9/site-packages/gym/wrappers/record_video.py:41: UserWarning: \u001b[33mWARN: Overwriting existing videos at /home/imsrobotics/Documents/IROS 2023/MPC-Bi-Level/videos/grid_density_1.5 folder (try specifying a different `video_folder` for the `RecordVideo` wrapper if this is not desired)\u001b[0m\n",
      "  logger.warn(\n",
      "----------------------------------------------------------------------------------------------------\n",
      "Episode: 1\n",
      "Collisions: 0\n",
      "Speed: 13.01220507968625\n",
      "----------------------------------------------------------------------------------------------------\n",
      "----------------------------------------------------------------------------------------------------\n",
      "Episode: 2\n",
      "Collisions: 0\n",
      "Speed: 14.584535496602717\n",
      "----------------------------------------------------------------------------------------------------\n",
      "----------------------------------------------------------------------------------------------------\n",
      "Episode: 3\n",
      "Collisions: 0\n",
      "Speed: 10.049826545013989\n",
      "----------------------------------------------------------------------------------------------------\n",
      "----------------------------------------------------------------------------------------------------\n",
      "Episode: 4\n",
      "Collisions: 0\n",
      "Speed: 11.290765044214629\n",
      "----------------------------------------------------------------------------------------------------\n",
      "----------------------------------------------------------------------------------------------------\n",
      "Episode: 5\n",
      "Collisions: 0\n",
      "Speed: 14.331144459432455\n",
      "----------------------------------------------------------------------------------------------------\n",
      "Average Collision Rate: 0.0\n",
      "Average Speed: 12.653695324990007\n",
      "Elapsed1138.7495484352112\n"
     ]
    }
   ],
   "source": [
    "!python main_baseline.py --baseline grid --density 1.5 --seed 42 --episodes 5 --record True"
   ]
  },
  {
   "cell_type": "code",
   "execution_count": 8,
   "id": "1fff4c09",
   "metadata": {},
   "outputs": [
    {
     "name": "stdout",
     "output_type": "stream",
     "text": [
      "/home/imsrobotics/anaconda3/lib/python3.9/site-packages/gym/wrappers/record_video.py:41: UserWarning: \u001b[33mWARN: Overwriting existing videos at /home/imsrobotics/Documents/IROS 2023/MPC-Bi-Level/videos/grid_density_3.0 folder (try specifying a different `video_folder` for the `RecordVideo` wrapper if this is not desired)\u001b[0m\n",
      "  logger.warn(\n",
      "----------------------------------------------------------------------------------------------------\n",
      "Episode: 1\n",
      "Collisions: 0\n",
      "Speed: 11.139410346722622\n",
      "----------------------------------------------------------------------------------------------------\n",
      "----------------------------------------------------------------------------------------------------\n",
      "Episode: 2\n",
      "Collisions: 0\n",
      "Speed: 11.924420619754196\n",
      "----------------------------------------------------------------------------------------------------\n",
      "----------------------------------------------------------------------------------------------------\n",
      "Episode: 3\n",
      "Collisions: 0\n",
      "Speed: 9.26742278052558\n",
      "----------------------------------------------------------------------------------------------------\n",
      "----------------------------------------------------------------------------------------------------\n",
      "Episode: 4\n",
      "Collisions: 0\n",
      "Speed: 18.411494242106315\n",
      "----------------------------------------------------------------------------------------------------\n",
      "----------------------------------------------------------------------------------------------------\n",
      "Episode: 5\n",
      "Collisions: 1\n",
      "Speed: 0.0\n",
      "----------------------------------------------------------------------------------------------------\n",
      "----------------------------------------------------------------------------------------------------\n",
      "Episode: 6\n",
      "Collisions: 2\n",
      "Speed: 0.0\n",
      "----------------------------------------------------------------------------------------------------\n",
      "----------------------------------------------------------------------------------------------------\n",
      "Episode: 7\n",
      "Collisions: 2\n",
      "Speed: 16.59381245003997\n",
      "----------------------------------------------------------------------------------------------------\n",
      "----------------------------------------------------------------------------------------------------\n",
      "Episode: 8\n",
      "Collisions: 3\n",
      "Speed: 0.0\n",
      "----------------------------------------------------------------------------------------------------\n",
      "----------------------------------------------------------------------------------------------------\n",
      "Episode: 9\n",
      "Collisions: 3\n",
      "Speed: 18.692915979716226\n",
      "----------------------------------------------------------------------------------------------------\n",
      "----------------------------------------------------------------------------------------------------\n",
      "Episode: 10\n",
      "Collisions: 3\n",
      "Speed: 8.716792191247002\n",
      "----------------------------------------------------------------------------------------------------\n",
      "Average Collision Rate: 0.3\n",
      "Average Speed: 9.474626861011192\n",
      "Elapsed1624.1816666126251\n"
     ]
    }
   ],
   "source": [
    "!python main_baseline.py --baseline grid --density 3.0 --seed 42 --episodes 10 --record True"
   ]
  },
  {
   "cell_type": "code",
   "execution_count": null,
   "id": "9477ab4c",
   "metadata": {},
   "outputs": [],
   "source": [
    "!python main_baseline.py --baseline grid --density 3.0 --seed 42 --maxiter 25"
   ]
  },
  {
   "cell_type": "code",
   "execution_count": null,
   "id": "beda8a52",
   "metadata": {},
   "outputs": [],
   "source": [
    "!python main_baseline.py --baseline grid --density 3.0 --seed 123 --maxiter 25"
   ]
  },
  {
   "cell_type": "code",
   "execution_count": null,
   "id": "0425a372",
   "metadata": {},
   "outputs": [],
   "source": [
    "!python main_baseline.py --baseline grid --density 3.0 --seed 42 --maxiter 50"
   ]
  },
  {
   "cell_type": "code",
   "execution_count": null,
   "id": "f5f57bc9",
   "metadata": {},
   "outputs": [],
   "source": [
    "!python main_baseline.py --baseline grid --density 3.0 --seed 123 --maxiter 50"
   ]
  },
  {
   "cell_type": "code",
   "execution_count": null,
   "id": "1c50beee",
   "metadata": {},
   "outputs": [],
   "source": [
    "!python main_baseline.py --baseline grid --density 3.0 --seed 42 --maxiter 75"
   ]
  },
  {
   "cell_type": "code",
   "execution_count": null,
   "id": "20b395ef",
   "metadata": {},
   "outputs": [],
   "source": [
    "!python main_baseline.py --baseline grid --density 3.0 --seed 123 --maxiter 75"
   ]
  },
  {
   "cell_type": "code",
   "execution_count": null,
   "id": "5f0f5b06",
   "metadata": {},
   "outputs": [],
   "source": [
    "!python main_baseline.py --baseline grid --density 3.0 --seed 42 --maxiter 100"
   ]
  },
  {
   "cell_type": "code",
   "execution_count": null,
   "id": "7cf1a2c9",
   "metadata": {},
   "outputs": [],
   "source": [
    "!python main_baseline.py --baseline grid --density 3.0 --seed 42 --maxiter 100"
   ]
  },
  {
   "cell_type": "code",
   "execution_count": null,
   "id": "a3674852",
   "metadata": {},
   "outputs": [],
   "source": [
    "!python main_bilevel.py --density 3.0 --seed 42 --maxiter 25"
   ]
  },
  {
   "cell_type": "code",
   "execution_count": null,
   "id": "24143c57",
   "metadata": {},
   "outputs": [],
   "source": [
    "!python main_bilevel.py --density 3.0 --seed 123 --maxiter 25"
   ]
  },
  {
   "cell_type": "code",
   "execution_count": null,
   "id": "3f8116df",
   "metadata": {},
   "outputs": [],
   "source": [
    "!python main_bilevel.py --density 3.0 --seed 42 --maxiter 50"
   ]
  },
  {
   "cell_type": "code",
   "execution_count": null,
   "id": "a2c00f0a",
   "metadata": {},
   "outputs": [],
   "source": [
    "!python main_bilevel.py --density 3.0 --seed 123 --maxiter 50"
   ]
  },
  {
   "cell_type": "code",
   "execution_count": null,
   "id": "37bb7ae4",
   "metadata": {},
   "outputs": [],
   "source": [
    "!python main_bilevel.py --density 3.0 --seed 42 --maxiter 75"
   ]
  },
  {
   "cell_type": "code",
   "execution_count": null,
   "id": "1358bbf3",
   "metadata": {},
   "outputs": [],
   "source": [
    "!python main_bilevel.py --density 3.0 --seed 123 --maxiter 75"
   ]
  },
  {
   "cell_type": "code",
   "execution_count": null,
   "id": "6767d2be",
   "metadata": {},
   "outputs": [],
   "source": [
    "!python main_bilevel.py --density 3.0 --seed 42 --maxiter 100"
   ]
  },
  {
   "cell_type": "code",
   "execution_count": null,
   "id": "f63daf14",
   "metadata": {},
   "outputs": [],
   "source": [
    "!python main_bilevel.py --density 3.0 --seed 123 --maxiter 100"
   ]
  },
  {
   "cell_type": "code",
   "execution_count": null,
   "id": "43cdb4a8",
   "metadata": {},
   "outputs": [],
   "source": [
    "# # Seed 42 \n",
    "# !python main_bilevel.py --density 1.5 --seed 42 --render True # Default Four Lane\n",
    "# # !python main_bilevel.py --two_lane True --density 2.0 --seed 42 --render True"
   ]
  },
  {
   "cell_type": "code",
   "execution_count": null,
   "id": "634ebe2a",
   "metadata": {},
   "outputs": [],
   "source": [
    "# # Seed 123\n",
    "# !python main_bilevel.py --density 1.5 --seed 123\n",
    "# # !python main_bilevel.py --two_lane True --density 2.0 --seed 123 "
   ]
  },
  {
   "attachments": {},
   "cell_type": "markdown",
   "id": "7836c692",
   "metadata": {},
   "source": [
    "### Baselines"
   ]
  },
  {
   "cell_type": "code",
   "execution_count": null,
   "id": "fdc9d38a",
   "metadata": {},
   "outputs": [],
   "source": [
    "!python main_baseline.py --baseline cem --density 3.0 --seed 42 "
   ]
  },
  {
   "cell_type": "code",
   "execution_count": null,
   "id": "9ef9c688",
   "metadata": {},
   "outputs": [],
   "source": [
    "!python main_baseline.py --baseline cem --density 3.0 --seed 123 "
   ]
  },
  {
   "cell_type": "code",
   "execution_count": null,
   "id": "ddfe5015",
   "metadata": {},
   "outputs": [],
   "source": [
    "!python main_baseline.py --baseline cem --density 2.5 --seed 42 "
   ]
  },
  {
   "cell_type": "code",
   "execution_count": null,
   "id": "81e8c922",
   "metadata": {},
   "outputs": [],
   "source": [
    "!python main_baseline.py --baseline cem --density 2.5 --seed 123 "
   ]
  },
  {
   "cell_type": "code",
   "execution_count": null,
   "id": "2ba49bc4",
   "metadata": {},
   "outputs": [],
   "source": [
    "!python main_baseline.py --baseline cem --density 1.5 --seed 42 "
   ]
  },
  {
   "cell_type": "code",
   "execution_count": null,
   "id": "0d3c0fce",
   "metadata": {},
   "outputs": [],
   "source": [
    "!python main_baseline.py --baseline cem --density 1.5 --seed 123"
   ]
  },
  {
   "cell_type": "code",
   "execution_count": null,
   "id": "39f32b29",
   "metadata": {},
   "outputs": [],
   "source": [
    "!python main_baseline.py --baseline cem --density 1.0 --seed 42 --two_lane True"
   ]
  },
  {
   "cell_type": "code",
   "execution_count": null,
   "id": "b512234f",
   "metadata": {},
   "outputs": [],
   "source": [
    "!python main_baseline.py --baseline cem --density 1.0 --seed 123 --two_lane True"
   ]
  },
  {
   "cell_type": "code",
   "execution_count": null,
   "id": "e75d87f2",
   "metadata": {},
   "outputs": [],
   "source": [
    "!python main_baseline.py --baseline cem --density 1.5 --seed 42 --two_lane True"
   ]
  },
  {
   "cell_type": "code",
   "execution_count": null,
   "id": "02b25753",
   "metadata": {},
   "outputs": [],
   "source": [
    "!python main_baseline.py --baseline cem --density 1.5 --seed 123 --two_lane True"
   ]
  },
  {
   "cell_type": "code",
   "execution_count": null,
   "id": "800752bb",
   "metadata": {},
   "outputs": [],
   "source": [
    "!python main_baseline.py --baseline cem --density 2.0 --seed 42 --two_lane True"
   ]
  },
  {
   "cell_type": "code",
   "execution_count": null,
   "id": "a79ff234",
   "metadata": {},
   "outputs": [],
   "source": [
    "!python main_baseline.py --baseline cem --density 2.0 --seed 123 --two_lane True"
   ]
  }
 ],
 "metadata": {
  "kernelspec": {
   "display_name": "base",
   "language": "python",
   "name": "python3"
  },
  "language_info": {
   "codemirror_mode": {
    "name": "ipython",
    "version": 3
   },
   "file_extension": ".py",
   "mimetype": "text/x-python",
   "name": "python",
   "nbconvert_exporter": "python",
   "pygments_lexer": "ipython3",
   "version": "3.9.7"
  },
  "vscode": {
   "interpreter": {
    "hash": "9c562111517df06ec79e2a0b366e2ca57c1da3a77768b6967f7ee5330ff1fbc3"
   }
  }
 },
 "nbformat": 4,
 "nbformat_minor": 5
}
